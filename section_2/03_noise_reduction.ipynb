{
  "nbformat": 4,
  "nbformat_minor": 0,
  "metadata": {
    "colab": {
      "provenance": [],
      "authorship_tag": "ABX9TyOjMRNQvX7ncnZ0mV1mw7VI",
      "include_colab_link": true
    },
    "kernelspec": {
      "name": "python3",
      "display_name": "Python 3"
    },
    "language_info": {
      "name": "python"
    }
  },
  "cells": [
    {
      "cell_type": "markdown",
      "metadata": {
        "id": "view-in-github",
        "colab_type": "text"
      },
      "source": [
        "<a href=\"https://colab.research.google.com/github/yukinaga/hopfield_boltzmann/blob/main/section_2/03_noise_reduction.ipynb\" target=\"_parent\"><img src=\"https://colab.research.google.com/assets/colab-badge.svg\" alt=\"Open In Colab\"/></a>"
      ]
    },
    {
      "cell_type": "markdown",
      "source": [
        "# ホップフィールドネットワークによるノイズ除去\n",
        "ホップフィールドネットワークを用いてシンプルな二値画像（白黒画像）をノイズ除去します。  \n",
        "画像パターンを学習させ、ノイズの入ったバージョンを入力して元の画像に復元する方法を示します。"
      ],
      "metadata": {
        "id": "D1ewu_ttnVop"
      }
    },
    {
      "cell_type": "markdown",
      "source": [
        "## コード：ホップフィールドネットワークを使った画像のノイズ除去\n",
        "以下では、**ホップフィールドネットワークを使った画像のノイズ除去** の例を紹介します。  \n",
        "このコードでは、ホップフィールドネットワークを用いてシンプルな二値画像（白黒画像）をノイズ除去します。  "
      ],
      "metadata": {
        "id": "hs-EOPaKnf9A"
      }
    },
    {
      "cell_type": "code",
      "execution_count": null,
      "metadata": {
        "id": "W2vttcSpLchW"
      },
      "outputs": [],
      "source": [
        "import numpy as np\n",
        "import matplotlib.pyplot as plt\n",
        "\n",
        "class HopfieldNetwork:\n",
        "    def __init__(self, num_neurons):\n",
        "        self.num_neurons = num_neurons\n",
        "        self.weights = np.zeros((num_neurons, num_neurons))\n",
        "\n",
        "    def train(self, patterns):\n",
        "        \"\"\"パターンを学習し、重み行列を構築する\"\"\"\n",
        "        for p in patterns:\n",
        "            p = p.reshape(self.num_neurons, 1)  # パターンを縦ベクトルに変換\n",
        "            self.weights += np.dot(p, p.T)      # 外積で重み行列を更新\n",
        "        np.fill_diagonal(self.weights, 0)       # 対角要素を0に設定\n",
        "\n",
        "    def recall(self, pattern, steps=10):\n",
        "        \"\"\"パターンを再現し、ノイズを除去する\"\"\"\n",
        "        result = pattern.copy()\n",
        "        for _ in range(steps):\n",
        "            result = np.sign(np.dot(self.weights, result))\n",
        "        return result\n",
        "\n",
        "def add_noise(pattern, noise_level=0.3):\n",
        "    \"\"\"ノイズを追加してパターンを変更する\"\"\"\n",
        "    noisy_pattern = pattern.copy()\n",
        "    num_noisy_pixels = int(noise_level * len(pattern))\n",
        "    noise_indices = np.random.choice(len(pattern), num_noisy_pixels, replace=False)\n",
        "    noisy_pattern[noise_indices] *= -1  # ピクセルを反転（1→-1、-1→1）\n",
        "    return noisy_pattern\n",
        "\n",
        "def plot_image(vector, title, image_shape=(8, 8)):\n",
        "    \"\"\"1次元配列を画像としてプロット\"\"\"\n",
        "    plt.imshow(vector.reshape(image_shape), cmap='gray')\n",
        "    plt.title(title)\n",
        "    plt.axis('off')\n",
        "    plt.show()\n",
        "\n",
        "# 8x8 のシンプルな二値画像パターン (1: 白, -1: 黒)\n",
        "pattern1 = np.array([\n",
        "    1, 1, 1, -1, -1, 1, 1, 1,\n",
        "    1, -1, -1, -1, -1, -1, 1, 1,\n",
        "    1, -1, 1, 1, 1, -1, 1, 1,\n",
        "    1, -1, 1, -1, 1, -1, 1, 1,\n",
        "    1, -1, 1, 1, 1, -1, 1, 1,\n",
        "    1, -1, -1, -1, -1, -1, 1, 1,\n",
        "    1, 1, 1, -1, -1, 1, 1, 1,\n",
        "    1, 1, 1, 1, 1, 1, 1, 1\n",
        "])\n",
        "\n",
        "pattern2 = np.array([\n",
        "    -1, -1, 1, 1, 1, 1, -1, -1,\n",
        "    -1, 1, -1, -1, -1, -1, 1, -1,\n",
        "    1, -1, -1, -1, -1, -1, -1, 1,\n",
        "    1, -1, -1, -1, -1, -1, -1, 1,\n",
        "    1, -1, -1, -1, -1, -1, -1, 1,\n",
        "    1, -1, -1, -1, -1, -1, -1, 1,\n",
        "    -1, 1, -1, -1, -1, -1, 1, -1,\n",
        "    -1, -1, 1, 1, 1, 1, -1, -1\n",
        "])\n",
        "\n",
        "# ホップフィールドネットワークを初期化してパターンを学習\n",
        "network = HopfieldNetwork(num_neurons=64)\n",
        "network.train([pattern1, pattern2])\n",
        "\n",
        "# 学習に使用したパターンを表示\n",
        "plot_image(pattern1, \"Training Pattern 1\")\n",
        "plot_image(pattern2, \"Training Pattern 2\")\n",
        "\n",
        "# ノイズを追加したパターン\n",
        "noisy_pattern = add_noise(pattern1, noise_level=0.3)\n",
        "plot_image(noisy_pattern, \"Noisy Pattern\")\n",
        "\n",
        "# ノイズ除去（再現）\n",
        "recalled_pattern = network.recall(noisy_pattern)\n",
        "plot_image(recalled_pattern, \"Recalled Pattern (Denoised)\")"
      ]
    },
    {
      "cell_type": "markdown",
      "source": [
        "### コードの解説\n",
        "\n",
        "1. **`HopfieldNetwork` クラス**:\n",
        "   - `train` メソッド:\n",
        "     - 学習パターン（`pattern1` と `pattern2`）を用いて重み行列を更新。\n",
        "   - `recall` メソッド:\n",
        "     - ノイズの入ったパターンを修正し、学習したパターンに収束させます。\n",
        "\n",
        "2. **`add_noise` 関数**:\n",
        "   - 指定された割合のピクセルをランダムに反転してノイズを追加します。\n",
        "\n",
        "3. **`plot_image` 関数**:\n",
        "   - 1次元のパターンを指定された形状（8×8）に変換し、画像として表示します。\n",
        "\n",
        "4. **学習と再現の流れ**:\n",
        "   - 学習パターン (`pattern1`, `pattern2`) をホップフィールドネットワークに学習させます。\n",
        "   - 学習パターンを表示します（`Training Pattern 1` と `Training Pattern 2`）。\n",
        "   - `pattern1` にノイズを追加し、ノイズの入ったパターンを表示します（`Noisy Pattern`）。\n",
        "   - ノイズの入ったパターンをネットワークに入力し、復元結果を表示します（`Recalled Pattern (Denoised)`）。\n",
        "\n",
        "---\n",
        "\n",
        "### 実行結果の例\n",
        "\n",
        "- **Training Pattern 1**:\n",
        "  - 学習に使用された `pattern1` の画像。\n",
        "  \n",
        "- **Training Pattern 2**:\n",
        "  - 学習に使用された `pattern2` の画像。\n",
        "\n",
        "- **Noisy Pattern**:\n",
        "  - `pattern1` にノイズを加えた画像。\n",
        "\n",
        "- **Recalled Pattern (Denoised)**:\n",
        "  - ホップフィールドネットワークが `Noisy Pattern` を元の `pattern1` に復元した画像。\n",
        "\n",
        "---\n",
        "\n",
        "### まとめ\n",
        "\n",
        "- ホップフィールドネットワークは、学習したパターンを記憶し、ノイズの入った入力から元のパターンを復元する能力を持っています。\n",
        "- 今回の例では、8×8の単純な二値パターンを学習し、ノイズ除去を行いました。\n",
        "- さらに大きな画像や複雑なパターンでも同様の手法を適用することで、ノイズ除去やパターン認識が可能です。"
      ],
      "metadata": {
        "id": "lupKR1TavQJK"
      }
    }
  ]
}