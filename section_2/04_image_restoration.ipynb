{
  "nbformat": 4,
  "nbformat_minor": 0,
  "metadata": {
    "colab": {
      "provenance": [],
      "authorship_tag": "ABX9TyPYf4m0O2Gbghqd9v3KJ4SX",
      "include_colab_link": true
    },
    "kernelspec": {
      "name": "python3",
      "display_name": "Python 3"
    },
    "language_info": {
      "name": "python"
    }
  },
  "cells": [
    {
      "cell_type": "markdown",
      "metadata": {
        "id": "view-in-github",
        "colab_type": "text"
      },
      "source": [
        "<a href=\"https://colab.research.google.com/github/yukinaga/hopfield_boltzmann/blob/main/section_2/04_image_restoration.ipynb\" target=\"_parent\"><img src=\"https://colab.research.google.com/assets/colab-badge.svg\" alt=\"Open In Colab\"/></a>"
      ]
    },
    {
      "cell_type": "markdown",
      "source": [
        "# ホップフィールドネットワークによる手書き数字（MNIST）の復元\n",
        "ホップフィールドネットワークを使用して、手書き数字（MNIST）データセット の画像を復元する例を紹介します。  \n",
        "MNISTデータセットは、28x28ピクセルの手書き数字（0から9）の画像から成りますが、これを復元することで、ホップフィールドネットワークの能力を実証します。"
      ],
      "metadata": {
        "id": "D1ewu_ttnVop"
      }
    },
    {
      "cell_type": "markdown",
      "source": [
        "## コード：ホップフィールドネットワークを使った手書き数字の復元\n",
        "このコードでは、以下のことを行います：\n",
        "1. **MNISTデータセット** から手書き数字の画像を読み込みます。\n",
        "2. 数字パターン（例: 数字「0」）をホップフィールドネットワークに学習させます。\n",
        "3. ランダムなノイズではなく、**画像の一部（四角形の領域）を欠落** させます。\n",
        "4. 欠損部分がある画像を入力し、ホップフィールドネットワークで復元を試みます。"
      ],
      "metadata": {
        "id": "hs-EOPaKnf9A"
      }
    },
    {
      "cell_type": "code",
      "execution_count": null,
      "metadata": {
        "id": "W2vttcSpLchW"
      },
      "outputs": [],
      "source": [
        "import numpy as np\n",
        "import matplotlib.pyplot as plt\n",
        "from tensorflow.keras.datasets import mnist\n",
        "from sklearn.preprocessing import binarize\n",
        "\n",
        "class HopfieldNetwork:\n",
        "    def __init__(self, num_neurons):\n",
        "        self.num_neurons = num_neurons\n",
        "        self.weights = np.zeros((num_neurons, num_neurons))\n",
        "\n",
        "    def train(self, patterns):\n",
        "        \"\"\"パターンを学習し、重み行列を構築する\"\"\"\n",
        "        for p in patterns:\n",
        "            p = p.reshape(self.num_neurons, 1)\n",
        "            self.weights += np.dot(p, p.T)\n",
        "        np.fill_diagonal(self.weights, 0)\n",
        "\n",
        "    def recall(self, pattern, steps=10):\n",
        "        \"\"\"パターンを再現し、欠損を補完する\"\"\"\n",
        "        result = pattern.copy()\n",
        "        for _ in range(steps):\n",
        "            result = np.sign(np.dot(self.weights, result))\n",
        "        return result\n",
        "\n",
        "def add_missing_part(pattern, mask_shape=(10, 10)):\n",
        "    \"\"\"画像の一部を欠落させる\"\"\"\n",
        "    corrupted_pattern = pattern.copy()\n",
        "    height, width = 28, 28\n",
        "    mask_height, mask_width = mask_shape\n",
        "    # 欠損領域の開始位置をランダムに選択\n",
        "    top = np.random.randint(0, height - mask_height)\n",
        "    left = np.random.randint(0, width - mask_width)\n",
        "    # 欠損部分を -1 で埋める（黒にする）\n",
        "    corrupted_pattern[top*width + left : top*width + left + mask_width] = -1\n",
        "    for row in range(1, mask_height):\n",
        "        start_index = (top + row) * width + left\n",
        "        corrupted_pattern[start_index : start_index + mask_width] = -1\n",
        "    return corrupted_pattern\n",
        "\n",
        "def plot_image(vector, title, image_shape=(28, 28)):\n",
        "    \"\"\"1次元配列を画像としてプロット\"\"\"\n",
        "    plt.imshow(vector.reshape(image_shape), cmap='gray')\n",
        "    plt.title(title)\n",
        "    plt.axis('off')\n",
        "    plt.show()\n",
        "\n",
        "# 1. MNISTデータセットの読み込み\n",
        "(x_train, y_train), (_, _) = mnist.load_data()\n",
        "\n",
        "# 2. データの前処理（2値化）\n",
        "x_train_bin = binarize(x_train.reshape(-1, 784), threshold=127).astype(int) * 2 - 1\n",
        "\n",
        "# 3. 学習用のパターンを準備（数字「0」と「1」を使用）\n",
        "pattern_zero = x_train_bin[y_train == 0][0]  # 数字「0」のパターン\n",
        "pattern_one = x_train_bin[y_train == 1][0]   # 数字「1」のパターン\n",
        "\n",
        "# 4. ホップフィールドネットワークの初期化と学習\n",
        "network = HopfieldNetwork(num_neurons=784)\n",
        "network.train([pattern_zero, pattern_one])\n",
        "\n",
        "# 学習に使用したパターンを表示\n",
        "plot_image(pattern_zero, \"Training Pattern: 0\")\n",
        "plot_image(pattern_one, \"Training Pattern: 1\")\n",
        "\n",
        "# 5. 画像の一部を欠落させる（数字「0」）\n",
        "missing_pattern = add_missing_part(pattern_zero, mask_shape=(10, 10))\n",
        "plot_image(missing_pattern, \"Pattern with Missing Part: 0\")\n",
        "\n",
        "# 6. 欠損部分の復元（パターンの再現）\n",
        "recalled_pattern = network.recall(missing_pattern)\n",
        "plot_image(recalled_pattern, \"Recalled Pattern (Filled): 0\")"
      ]
    },
    {
      "cell_type": "markdown",
      "source": [
        "### コードの解説\n",
        "\n",
        "#### 1. **`HopfieldNetwork` クラス**\n",
        "- **`train` メソッド**:\n",
        "  - 与えられたパターンの **外積** を使って重み行列を構築し、学習します。\n",
        "- **`recall` メソッド**:\n",
        "  - 欠損部分があるパターンを入力して、学習済みパターンに収束させ、欠損部分を復元します。\n",
        "\n",
        "#### 2. **`add_missing_part` 関数**\n",
        "- **画像の一部を欠落** させます。\n",
        "  - 欠損領域のサイズ（`mask_shape`）を指定して、ランダムな位置に四角形の欠損領域を作成します。\n",
        "  - 欠損部分はピクセル値 `-1`（黒）で埋めます。\n",
        "\n",
        "#### 3. **`plot_image` 関数**\n",
        "- 1次元配列を28×28ピクセルの画像としてプロットします。\n",
        "\n",
        "#### 4. **データの前処理**\n",
        "- `MNIST` データセットを読み込み、**2値化** します。\n",
        "  - ピクセル値を `0` または `1` に変換し、その後 `-1` と `1` の値に調整します。\n",
        "\n",
        "#### 5. **学習と復元の流れ**\n",
        "- **学習パターン** をホップフィールドネットワークに学習させます。\n",
        "- **欠損部分** を持つパターンを生成し、その画像を表示します。\n",
        "- ホップフィールドネットワークで **欠損部分を復元** し、再現された画像を表示します。\n",
        "\n",
        "---\n",
        "\n",
        "### 実行結果の例\n",
        "\n",
        "1. **Training Pattern: 0**\n",
        "   - 学習に使用した数字「0」の画像。\n",
        "  \n",
        "2. **Training Pattern: 1**\n",
        "   - 学習に使用した数字「1」の画像。\n",
        "\n",
        "3. **Pattern with Missing Part: 0**\n",
        "   - 数字「0」の画像の一部（10×10ピクセル）が欠落した状態。\n",
        "\n",
        "4. **Recalled Pattern (Filled): 0**\n",
        "   - 欠損部分がホップフィールドネットワークによって復元された画像。\n",
        "\n",
        "---\n",
        "\n",
        "### まとめ\n",
        "- ホップフィールドネットワークは、画像の一部が欠落している場合でも、**学習したパターン** を基にして元の画像に近づけることができます。\n",
        "- 今回の例では、`MNIST` の手書き数字を使って、欠損部分を復元しました。\n",
        "- この手法は、ノイズ除去や部分欠損からの補完など、パターンの補完能力が必要なタスクに応用できます。\n",
        "\n",
        "このコードをさらに拡張すれば、より複雑なパターンや画像の補完にも応用可能です。"
      ],
      "metadata": {
        "id": "lupKR1TavQJK"
      }
    }
  ]
}