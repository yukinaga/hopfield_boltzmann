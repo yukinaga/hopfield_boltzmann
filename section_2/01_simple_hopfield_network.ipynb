{
  "nbformat": 4,
  "nbformat_minor": 0,
  "metadata": {
    "colab": {
      "provenance": [],
      "authorship_tag": "ABX9TyM0JVDR2WIngKDjzFsPDGZ7",
      "include_colab_link": true
    },
    "kernelspec": {
      "name": "python3",
      "display_name": "Python 3"
    },
    "language_info": {
      "name": "python"
    }
  },
  "cells": [
    {
      "cell_type": "markdown",
      "metadata": {
        "id": "view-in-github",
        "colab_type": "text"
      },
      "source": [
        "<a href=\"https://colab.research.google.com/github/yukinaga/hopfield_boltzmann/blob/main/section_2/01_simple_hopfield_network.ipynb\" target=\"_parent\"><img src=\"https://colab.research.google.com/assets/colab-badge.svg\" alt=\"Open In Colab\"/></a>"
      ]
    },
    {
      "cell_type": "markdown",
      "source": [
        "# シンプルなホップフィールドネットワークの実装\n",
        "シンプルかつ短いコードで、ホップフィールドネットワークの基本的な動作を理解します。  \n",
        "とりあえずは、処理の大まかな流れを把握しましょう。  "
      ],
      "metadata": {
        "id": "D1ewu_ttnVop"
      }
    },
    {
      "cell_type": "markdown",
      "source": [
        "## HopfieldNetworkクラス\n",
        "ホップフィールドネットワークをクラスとして実装します。\n"
      ],
      "metadata": {
        "id": "hs-EOPaKnf9A"
      }
    },
    {
      "cell_type": "code",
      "execution_count": null,
      "metadata": {
        "id": "W2vttcSpLchW"
      },
      "outputs": [],
      "source": [
        "import numpy as np\n",
        "\n",
        "class HopfieldNetwork:\n",
        "    def __init__(self, num_neurons):\n",
        "        self.num_neurons = num_neurons\n",
        "        self.weights = np.zeros((num_neurons, num_neurons))\n",
        "\n",
        "    def train(self, patterns):\n",
        "        # パターンをホップフィールドネットワークに学習させる\n",
        "        for p in patterns:\n",
        "            p = p.reshape(self.num_neurons, 1)  # パターンを縦ベクトルに変換\n",
        "            self.weights += np.dot(p, p.T)      # 外積で重み行列を更新\n",
        "        np.fill_diagonal(self.weights, 0)       # 対角要素を0に設定\n",
        "\n",
        "    def recall(self, pattern, steps=5):\n",
        "        # 学習したパターンに基づいて入力パターンを修正する\n",
        "        result = pattern.copy()\n",
        "        for _ in range(steps):\n",
        "            result = np.sign(np.dot(self.weights, result))\n",
        "        return result"
      ]
    },
    {
      "cell_type": "markdown",
      "source": [
        "### __init__ メソッド:\n",
        "* 重み行列 (weights) を初期化します。\n",
        "* ニューロンの数 num_neurons を指定して、weights をゼロ行列で初期化します。\n",
        "\n",
        "### train メソッド:\n",
        "* パターンを学習します。\n",
        "* 与えられたパターンの外積を用いて重み行列を更新します。\n",
        "* 対角要素はゼロに設定して、各ニューロンが 自分自身と結合しない ようにします。\n",
        "\n",
        "### recall メソッド:\n",
        "* 入力パターンを使って、学習済みのパターンに基づき 修正（連想） します。\n",
        "* steps 回の反復で、ネットワークが安定した状態に収束するようにします。\n",
        "\n"
      ],
      "metadata": {
        "id": "lupKR1TavQJK"
      }
    },
    {
      "cell_type": "markdown",
      "source": [
        "## パターンの学習と再現\n",
        "`pattern1`と`pattern2`の2つのパターンを学習させます。\n",
        "その後、ノイズが入ったパターンをネットワークに入力し、学習したパターンを再現することを試みます。"
      ],
      "metadata": {
        "id": "XeGiQCcIoZ6V"
      }
    },
    {
      "cell_type": "code",
      "source": [
        "# サンプルパターンの作成（3×3の二値パターン）\n",
        "pattern1 = np.array([1, -1, 1, -1, 1, -1, 1, -1, 1])\n",
        "pattern2 = np.array([-1, 1, -1, 1, -1, 1, -1, 1, -1])\n",
        "\n",
        "# ホップフィールドネットワークを初期化して学習させる\n",
        "network = HopfieldNetwork(num_neurons=9)\n",
        "network.train([pattern1, pattern2])\n",
        "\n",
        "# ノイズを加えたパターンを入力\n",
        "noisy_pattern = np.array([1, 1, 1, -1, 1, -1, 1, -1, -1])\n",
        "print(\"Noisy Input:      \", noisy_pattern)\n",
        "\n",
        "# ネットワークによるパターンの復元\n",
        "recalled_pattern = network.recall(noisy_pattern)\n",
        "print(\"Recalled Pattern: \", recalled_pattern)"
      ],
      "metadata": {
        "id": "GfuYZ67Tk8xE"
      },
      "execution_count": null,
      "outputs": []
    },
    {
      "cell_type": "markdown",
      "source": [
        "重み行列`weights`は、パターン間の関連性を保持する行列ですが、学習が進むと、ホップフィールドネットワークはこれらの重みを利用して、与えられた入力から最も近い記憶パターンを再現することができます。  \n",
        "そのため、多少のノイズが含まれていても、最も近い記憶パターンに修正してくれます。"
      ],
      "metadata": {
        "id": "vGvGibS8y74T"
      }
    }
  ]
}