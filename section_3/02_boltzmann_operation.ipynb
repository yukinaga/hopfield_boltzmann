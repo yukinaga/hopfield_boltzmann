{
  "nbformat": 4,
  "nbformat_minor": 0,
  "metadata": {
    "colab": {
      "provenance": [],
      "authorship_tag": "ABX9TyNHZXDcK+0ESoLazaMps/BX",
      "include_colab_link": true
    },
    "kernelspec": {
      "name": "python3",
      "display_name": "Python 3"
    },
    "language_info": {
      "name": "python"
    }
  },
  "cells": [
    {
      "cell_type": "markdown",
      "metadata": {
        "id": "view-in-github",
        "colab_type": "text"
      },
      "source": [
        "<a href=\"https://colab.research.google.com/github/yukinaga/hopfield_boltzmann/blob/main/section_3/02_boltzmann_operation.ipynb\" target=\"_parent\"><img src=\"https://colab.research.google.com/assets/colab-badge.svg\" alt=\"Open In Colab\"/></a>"
      ]
    },
    {
      "cell_type": "markdown",
      "source": [
        "# ボルツマンマシンの動作\n",
        "BoltzmannMachineクラスを使い、ボルツマンマシンの動作を確認します。"
      ],
      "metadata": {
        "id": "D1ewu_ttnVop"
      }
    },
    {
      "cell_type": "markdown",
      "source": [
        "## BoltzmannMachineクラス"
      ],
      "metadata": {
        "id": "hs-EOPaKnf9A"
      }
    },
    {
      "cell_type": "code",
      "execution_count": null,
      "metadata": {
        "id": "W2vttcSpLchW"
      },
      "outputs": [],
      "source": [
        "import numpy as np\n",
        "\n",
        "class BoltzmannMachine:\n",
        "    def __init__(self, num_neurons, temperature=1.0):\n",
        "        \"\"\"ボルツマンマシンの初期化\"\"\"\n",
        "        self.num_neurons = num_neurons\n",
        "        self.weights = np.random.randn(num_neurons, num_neurons) * 0.1\n",
        "        np.fill_diagonal(self.weights, 0)  # 自己結合はゼロ\n",
        "        self.biases = np.zeros(num_neurons)\n",
        "        self.temperature = temperature  # 温度パラメータ\n",
        "\n",
        "    def sigmoid(self, x):\n",
        "        \"\"\"シグモイド関数（温度パラメータを考慮）\"\"\"\n",
        "        return 1 / (1 + np.exp(-x / self.temperature))\n",
        "\n",
        "    def energy(self, state):\n",
        "        \"\"\"エネルギー関数\"\"\"\n",
        "        return -0.5 * np.dot(state, np.dot(self.weights, state)) - np.dot(self.biases, state)\n",
        "\n",
        "    def sample_neuron(self, state, idx):\n",
        "        \"\"\"単一のニューロンの状態を確率的に更新\"\"\"\n",
        "        activation = np.dot(self.weights[idx], state) + self.biases[idx]\n",
        "        prob = self.sigmoid(activation)\n",
        "        return 1 if np.random.rand() < prob else 0\n",
        "\n",
        "    def sample_state(self, state, steps=1):\n",
        "        \"\"\"全ニューロンの状態をランダムに更新\"\"\"\n",
        "        for _ in range(steps):\n",
        "            for i in range(self.num_neurons):\n",
        "                state[i] = self.sample_neuron(state, i)\n",
        "        return state\n",
        "\n",
        "    def train(self, data, epochs=1000, learning_rate=0.01):\n",
        "        \"\"\"ボルツマンマシンの学習\"\"\"\n",
        "        num_samples = data.shape[0]\n",
        "        for epoch in range(epochs):\n",
        "            for sample in data:\n",
        "                positive_state = sample.copy()\n",
        "                negative_state = sample.copy()\n",
        "\n",
        "                # 負方向のフェーズ（ギブスサンプリング）\n",
        "                for _ in range(10):\n",
        "                    negative_state = self.sample_state(negative_state)\n",
        "\n",
        "                # 重みとバイアスの更新\n",
        "                for i in range(self.num_neurons):\n",
        "                    for j in range(self.num_neurons):\n",
        "                        self.weights[i, j] += learning_rate * (\n",
        "                            positive_state[i] * positive_state[j] - negative_state[i] * negative_state[j]\n",
        "                        )\n",
        "                self.biases += learning_rate * (positive_state - negative_state)\n",
        "\n",
        "            # 温度を徐々に下げる（アニーリング）\n",
        "            self.temperature *= 0.99\n",
        "\n",
        "            if (epoch + 1) % 100 == 0:\n",
        "                print(f\"Epoch {epoch + 1}/{epochs} completed, Temperature: {self.temperature:.4f}\")\n",
        "\n",
        "    def run(self, state, steps=10):\n",
        "        \"\"\"学習済みボルツマンマシンでデータを生成\"\"\"\n",
        "        return self.sample_state(state, steps)\n"
      ]
    },
    {
      "cell_type": "markdown",
      "source": [
        "## BoltzmannMachineの利用\n",
        "ボルツマンマシンを訓練し、パターンを再現します。"
      ],
      "metadata": {
        "id": "yivKT_YN8sJM"
      }
    },
    {
      "cell_type": "code",
      "source": [
        "import matplotlib.pyplot as plt\n",
        "\n",
        "def plot_image(vector, title, shape=(8, 8)):\n",
        "    \"\"\"1次元配列を画像として表示\"\"\"\n",
        "    plt.imshow(vector.reshape(shape), cmap='gray')\n",
        "    plt.title(title)\n",
        "    plt.axis('off')\n",
        "    plt.show()\n",
        "\n",
        "# サンプルデータの作成（8x8の単純なパターン）\n",
        "pattern1 = np.array([\n",
        "    1, 1, 1, -1, -1, 1, 1, 1,\n",
        "    1, -1, -1, -1, -1, -1, 1, 1,\n",
        "    1, -1, 1, 1, 1, -1, 1, 1,\n",
        "    1, -1, 1, -1, 1, -1, 1, 1,\n",
        "    1, -1, 1, 1, 1, -1, 1, 1,\n",
        "    1, -1, -1, -1, -1, -1, 1, 1,\n",
        "    1, 1, 1, -1, -1, 1, 1, 1,\n",
        "    1, 1, 1, 1, 1, 1, 1, 1\n",
        "])\n",
        "\n",
        "pattern2 = np.array([\n",
        "    -1, -1, 1, 1, 1, 1, -1, -1,\n",
        "    -1, 1, -1, -1, -1, -1, 1, -1,\n",
        "    1, -1, -1, -1, -1, -1, -1, 1,\n",
        "    1, -1, -1, -1, -1, -1, -1, 1,\n",
        "    1, -1, -1, -1, -1, -1, -1, 1,\n",
        "    1, -1, -1, -1, -1, -1, -1, 1,\n",
        "    -1, 1, -1, -1, -1, -1, 1, -1,\n",
        "    -1, -1, 1, 1, 1, 1, -1, -1\n",
        "])\n",
        "\n",
        "# データの準備\n",
        "data = np.array([pattern1, pattern2])\n",
        "\n",
        "# 元のパターンを画像として表示\n",
        "plot_image(pattern1, \"Original Pattern 1\")\n",
        "plot_image(pattern2, \"Original Pattern 2\")\n",
        "\n",
        "# ボルツマンマシンの初期化と学習\n",
        "bm = BoltzmannMachine(num_neurons=64, temperature=5.0)\n",
        "bm.train(data, epochs=500, learning_rate=0.01)\n",
        "\n",
        "# 学習結果を使ってパターンを再生成\n",
        "generated_pattern1 = bm.run(pattern1)\n",
        "plot_image(generated_pattern1, \"Generated Pattern from Pattern 1\")\n",
        "\n",
        "generated_pattern2 = bm.run(pattern2)\n",
        "plot_image(generated_pattern2, \"Generated Pattern from Pattern 2\")\n"
      ],
      "metadata": {
        "id": "bexUP6xY8sX0"
      },
      "execution_count": null,
      "outputs": []
    },
    {
      "cell_type": "markdown",
      "source": [
        "以下、上記のコードを解説します。  \n",
        "\n",
        "### **画像の表示関数**\n",
        "```python\n",
        "def plot_image(vector, title, shape=(8, 8)):\n",
        "    \"\"\"1次元配列を画像として表示\"\"\"\n",
        "    plt.imshow(vector.reshape(shape), cmap='gray')\n",
        "    plt.title(title)\n",
        "    plt.axis('off')\n",
        "    plt.show()\n",
        "```\n",
        "- 1次元配列を8×8の画像として表示します。\n",
        "\n",
        "---\n",
        "\n",
        "### **サンプルデータの作成**\n",
        "```python\n",
        "pattern1 = np.array([...])\n",
        "pattern2 = np.array([...])\n",
        "data = np.array([pattern1, pattern2])\n",
        "```\n",
        "- ここでは、2つの8×8のパターンをサンプルデータとして使用しています。\n",
        "\n",
        "---\n",
        "\n",
        "### **ボルツマンマシンの学習と生成**\n",
        "```python\n",
        "bm = BoltzmannMachine(num_neurons=64, temperature=5.0)\n",
        "bm.train(data, epochs=500, learning_rate=0.01)\n",
        "\n",
        "# 学習結果を使ってパターンを再生成\n",
        "generated_pattern1 = bm.run(pattern1)\n",
        "plot_image(generated_pattern1, \"Generated Pattern from Pattern 1\")\n",
        "\n",
        "generated_pattern2 = bm.run(pattern2)\n",
        "plot_image(generated_pattern2, \"Generated Pattern from Pattern 2\")\n",
        "```\n",
        "- ボルツマンマシンを初期化し、500エポックで学習させています。\n",
        "- 学習したモデルを使って、与えられたパターンから新しいパターンを生成し、表示します。\n",
        "\n",
        "---\n",
        "\n",
        "### **まとめ**\n",
        "ボルツマンマシンを用いて簡単なパターンの再生成を行いました。  \n",
        "パターンを学習することで、ノイズの多い入力からも元のパターンを再構成できる能力を持つことが確認できました。"
      ],
      "metadata": {
        "id": "lupKR1TavQJK"
      }
    }
  ]
}